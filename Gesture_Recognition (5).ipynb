{
  "nbformat": 4,
  "nbformat_minor": 0,
  "metadata": {
    "accelerator": "TPU",
    "colab": {
      "name": "Gesture Recognition.ipynb",
      "provenance": [],
      "collapsed_sections": [],
      "toc_visible": true
    },
    "kernelspec": {
      "display_name": "Python 3",
      "language": "python",
      "name": "python3"
    },
    "language_info": {
      "codemirror_mode": {
        "name": "ipython",
        "version": 3
      },
      "file_extension": ".py",
      "mimetype": "text/x-python",
      "name": "python",
      "nbconvert_exporter": "python",
      "pygments_lexer": "ipython3",
      "version": "3.6.5"
    }
  },
  "cells": [
    {
      "cell_type": "markdown",
      "metadata": {
        "id": "YkqBzFOeDqzC"
      },
      "source": [
        "# Gesture Recognition\n",
        "In this group project, We are going to build a 3D Conv model that will be able to predict the 5 gestures correctly. "
      ]
    },
    {
      "cell_type": "markdown",
      "metadata": {
        "id": "8rq7MWGQQm6D"
      },
      "source": [
        "Notebook by Sunanda Mahanta and Sourabh Pattanshetty"
      ]
    },
    {
      "cell_type": "code",
      "metadata": {
        "id": "0-c9_zHkDqzN"
      },
      "source": [
        "import numpy as np\n",
        "import os\n",
        "#from scipy.misc import imread, imresize\n",
        "from skimage.transform import rescale, resize, downscale_local_mean\n",
        "import imageio\n",
        "import datetime\n",
        "import os"
      ],
      "execution_count": null,
      "outputs": []
    },
    {
      "cell_type": "markdown",
      "metadata": {
        "id": "QuVGRboKDqzO"
      },
      "source": [
        "We set the random seed so that the results don't vary drastically."
      ]
    },
    {
      "cell_type": "code",
      "metadata": {
        "id": "J5TXVJcWDqzP"
      },
      "source": [
        "np.random.seed(30)\n",
        "import random as rn\n",
        "rn.seed(30)\n",
        "from keras import backend as K\n",
        "import tensorflow as tf\n",
        "tf.random.set_seed(30)"
      ],
      "execution_count": null,
      "outputs": []
    },
    {
      "cell_type": "markdown",
      "metadata": {
        "id": "nXfx5TnXDqzP"
      },
      "source": [
        "In this block, you read the folder names for training and validation. You also set the `batch_size` here. Note that you set the batch size in such a way that you are able to use the GPU in full capacity. You keep increasing the batch size until the machine throws an error."
      ]
    },
    {
      "cell_type": "code",
      "metadata": {
        "colab": {
          "base_uri": "https://localhost:8080/"
        },
        "id": "WeeNPSeC5fqg",
        "outputId": "5259abbb-ea8f-4c7c-e130-fd9226ed8dc2"
      },
      "source": [
        "from google.colab import drive\n",
        "drive.mount('/content/drive')"
      ],
      "execution_count": null,
      "outputs": [
        {
          "output_type": "stream",
          "text": [
            "Drive already mounted at /content/drive; to attempt to forcibly remount, call drive.mount(\"/content/drive\", force_remount=True).\n"
          ],
          "name": "stdout"
        }
      ]
    },
    {
      "cell_type": "code",
      "metadata": {
        "id": "7vSVRJwADqzQ"
      },
      "source": [
        "train_doc = np.random.permutation(open('/content/drive/MyDrive/Project_data/train.csv').readlines())\n",
        "val_doc = np.random.permutation(open('/content/drive/MyDrive/Project_data/val.csv').readlines())\n",
        "batch_size = 32\n",
        "#experiment with the batch size"
      ],
      "execution_count": null,
      "outputs": []
    },
    {
      "cell_type": "markdown",
      "metadata": {
        "id": "NmMhC_k4DqzQ"
      },
      "source": [
        "## Generator\n",
        "This is one of the most important part of the code. The overall structure of the generator has been given. In the generator, you are going to preprocess the images as you have images of 2 different dimensions as well as create a batch of video frames. You have to experiment with `img_idx`, `y`,`z` and normalization such that you get high accuracy."
      ]
    },
    {
      "cell_type": "code",
      "metadata": {
        "id": "-FUPJWZz8y2X"
      },
      "source": [
        "def cropResize(image, y, z):\n",
        "    h, w = image.shape\n",
        "    \n",
        "    # if smaller image crop at center for 120x120\n",
        "    if w == 160:\n",
        "        image = image[:120, 20:140]\n",
        "\n",
        "    # resize every image\n",
        "    return resize(image, (y,z))"
      ],
      "execution_count": null,
      "outputs": []
    },
    {
      "cell_type": "code",
      "metadata": {
        "id": "xlRIdkP08y4G"
      },
      "source": [
        "def normalizeImage(image):\n",
        "    # applying normalization\n",
        "    return image/255.0"
      ],
      "execution_count": null,
      "outputs": []
    },
    {
      "cell_type": "code",
      "metadata": {
        "id": "zX0TL5MX86d7"
      },
      "source": [
        "def preprocessImage(image, y, z):\n",
        "    return normalizeImage(cropResize(image, y, z))"
      ],
      "execution_count": null,
      "outputs": []
    },
    {
      "cell_type": "code",
      "metadata": {
        "id": "vVUHRNnbDqzR"
      },
      "source": [
        "x = 15\n",
        "y = 120\n",
        "z = 120\n",
        "def generator(source_path, folder_list, batch_size):\n",
        "    print( 'Source path = ', source_path, '; batch size =', batch_size)\n",
        "    img_idx = [0,2,4,6,8,10,12,14,16,18,20,22,24,26,28]#create a list of image numbers you want to use for a particular video\n",
        "    while True:\n",
        "        t = np.random.permutation(folder_list)\n",
        "        num_batches = int(len(t)/batch_size)# calculate the number of batches\n",
        "        for batch in range(num_batches): # we iterate over the number of batches\n",
        "            batch_data = np.zeros((batch_size,x,y,z,3)) # x is the number of images you use for each video, (y,z) is the final size of the input images and 3 is the number of channels RGB\n",
        "            batch_labels = np.zeros((batch_size,5)) # batch_labels is the one hot representation of the output\n",
        "            for folder in range(batch_size): # iterate over the batch_size\n",
        "                imgs = os.listdir(source_path+'/'+ t[folder + (batch*batch_size)].split(';')[0]) # read all the images in the folder\n",
        "                for idx,item in enumerate(img_idx): #  Iterate iver the frames/images of a folder to read them in\n",
        "                    image = imageio.imread(source_path+'/'+ t[folder + (batch*batch_size)].strip().split(';')[0]+'/'+imgs[item]).astype(np.float32)\n",
        "                    \n",
        "                    #crop the images and resize them. Note that the images are of 2 different shape\n",
        "                    #image = imresize(image,(y,z)).astype(np.float32)\n",
        "                    #and the conv3D will throw error if the inputs in a batch have different shapes\n",
        "                    \n",
        "                    batch_data[folder,idx,:,:,0] =  preprocessImage(image[:, :, 0], y, z)#normalise and feed in the image\n",
        "                    batch_data[folder,idx,:,:,1] =  preprocessImage(image[:, :, 1], y, z)#normalise and feed in the image\n",
        "                    batch_data[folder,idx,:,:,2] =  preprocessImage(image[:, :, 2], y, z)#normalise and feed in the image\n",
        "                    \n",
        "                batch_labels[folder, int(t[folder + (batch*batch_size)].strip().split(';')[2])] = 1\n",
        "            yield batch_data, batch_labels #you yield the batch_data and the batch_labels, remember what does yield do\n",
        "\n",
        "        \n",
        "        # write the code for the remaining data points which are left after full batches\n",
        "        if len(t) % batch_size != 0 : \n",
        "            batch_data = np.zeros((batch_size,x,y,z,3)) # x is the number of images you use for each video, (y,z) is the final size of the input images and 3 is the number of channels RGB\n",
        "            batch_labels = np.zeros((batch_size,5)) # batch_labels is the one hot representation of the output\n",
        "            for folder in range(len(t)%batch_size): # iterate over the batch_size\n",
        "                imgs = os.listdir(source_path+'/'+ t[folder + (batch*batch_size)].split(';')[0]) # read all the images in the folder\n",
        "                for idx,item in enumerate(img_idx): #  Iterate iver the frames/images of a folder to read them in\n",
        "                    image = imageio.imread(source_path+'/'+ t[folder + (batch*batch_size)].strip().split(';')[0]+'/'+imgs[item]).astype(np.float32)\n",
        "                    \n",
        "                    #crop the images and resize them. Note that the images are of 2 different shape\n",
        "                    #image = imresize(image,(y,z)).astype(np.float32)\n",
        "                    #and the conv3D will throw error if the inputs in a batch have different shapes\n",
        "                    \n",
        "                    batch_data[folder,idx,:,:,0] =  preprocessImage(image[:, :, 0], y, z)#normalise and feed in the image\n",
        "                    batch_data[folder,idx,:,:,1] =  preprocessImage(image[:, :, 1], y, z)#normalise and feed in the image\n",
        "                    batch_data[folder,idx,:,:,2] =  preprocessImage(image[:, :, 2], y, z)#normalise and feed in the image\n",
        "                    \n",
        "                batch_labels[folder, int(t[folder + (batch*batch_size)].strip().split(';')[2])] = 1\n",
        "            yield batch_data, batch_labels #you yield the batch_data and the batch_labels, remember what does yield\n",
        "\n"
      ],
      "execution_count": null,
      "outputs": []
    },
    {
      "cell_type": "markdown",
      "metadata": {
        "id": "t4wZLL5oDqzR"
      },
      "source": [
        "Note here that a video is represented above in the generator as (number of images, height, width, number of channels). Take this into consideration while creating the model architecture."
      ]
    },
    {
      "cell_type": "code",
      "metadata": {
        "colab": {
          "base_uri": "https://localhost:8080/"
        },
        "id": "ZbnKbEFjDqzS",
        "outputId": "8ae66be0-9dcb-42c2-d9ce-b15ef8bb6a78"
      },
      "source": [
        "curr_dt_time = datetime.datetime.now()\n",
        "train_path = '/content/drive/MyDrive/Project_data/train'\n",
        "val_path = '/content/drive/MyDrive/Project_data/val'\n",
        "num_train_sequences = len(train_doc)\n",
        "print('# training sequences =', num_train_sequences)\n",
        "num_val_sequences = len(val_doc)\n",
        "print('# validation sequences =', num_val_sequences)\n",
        "num_epochs = 24 \n",
        "print ('# epochs =', num_epochs)"
      ],
      "execution_count": null,
      "outputs": [
        {
          "output_type": "stream",
          "text": [
            "# training sequences = 663\n",
            "# validation sequences = 100\n",
            "# epochs = 24\n"
          ],
          "name": "stdout"
        }
      ]
    },
    {
      "cell_type": "markdown",
      "metadata": {
        "id": "MboFy5KjDqzS"
      },
      "source": [
        "## Model\n",
        "Here you make the model using different functionalities that Keras provides. Remember to use `Conv3D` and `MaxPooling3D` and not `Conv2D` and `Maxpooling2D` for a 3D convolution model. You would want to use `TimeDistributed` while building a Conv2D + RNN model. Also remember that the last layer is the softmax. Design the network in such a way that the model is able to give good accuracy on the least number of parameters so that it can fit in the memory of the webcam."
      ]
    },
    {
      "cell_type": "code",
      "metadata": {
        "id": "mlRVx5biDqzT"
      },
      "source": [
        "from keras.models import Sequential, Model\n",
        "from keras.layers import Dense, GRU, Flatten, TimeDistributed, Flatten, BatchNormalization, Activation\n",
        "from keras.layers.convolutional import Conv3D, MaxPooling3D\n",
        "from tensorflow.python.keras.layers import Dropout\n",
        "from keras.callbacks import ModelCheckpoint, ReduceLROnPlateau\n",
        "from keras import optimizers\n",
        "\n",
        "#write your model here\n",
        "model = Sequential()\n",
        "model.add(Conv3D(16,(5,5,5), strides=(1,1,1),padding='same', activation='relu',input_shape=(x,y,z,3)))\n",
        "model.add(BatchNormalization())\n",
        "model.add(MaxPooling3D())\n",
        "\n",
        "\n",
        "model.add(Conv3D(32,(3,3,3), strides=(1,1,1),padding='same',activation='relu'))\n",
        "model.add(BatchNormalization())\n",
        "model.add(MaxPooling3D())\n",
        "\n",
        "\n",
        "model.add(Conv3D(64,(3,3,3), strides=(1,1,1),padding='same',activation='relu'))\n",
        "model.add(BatchNormalization())\n",
        "model.add(MaxPooling3D())\n",
        "\n",
        "\n",
        "model.add(Flatten())\n",
        "model.add(Dense(128, activation='relu'))\n",
        "model.add(BatchNormalization())\n",
        "model.add(Dropout(0.25))\n",
        "\n",
        "model.add(Dense(5, activation='softmax'))\n",
        "\n"
      ],
      "execution_count": null,
      "outputs": []
    },
    {
      "cell_type": "markdown",
      "metadata": {
        "id": "EIzatzbEDqzU"
      },
      "source": [
        "Now that you have written the model, the next step is to `compile` the model. When you print the `summary` of the model, you'll see the total number of parameters you have to train."
      ]
    },
    {
      "cell_type": "code",
      "metadata": {
        "colab": {
          "base_uri": "https://localhost:8080/"
        },
        "id": "zzTy4IWfDqzU",
        "scrolled": true,
        "outputId": "03856a23-3967-4482-da28-e5333a8646a9"
      },
      "source": [
        "optimiser = 'adam'\n",
        "model.compile(optimizer=optimiser, loss='categorical_crossentropy', metrics=['categorical_accuracy'])\n",
        "print (model.summary())"
      ],
      "execution_count": null,
      "outputs": [
        {
          "output_type": "stream",
          "text": [
            "Model: \"sequential\"\n",
            "_________________________________________________________________\n",
            "Layer (type)                 Output Shape              Param #   \n",
            "=================================================================\n",
            "conv3d (Conv3D)              (None, 15, 120, 120, 16)  6016      \n",
            "_________________________________________________________________\n",
            "batch_normalization (BatchNo (None, 15, 120, 120, 16)  64        \n",
            "_________________________________________________________________\n",
            "max_pooling3d (MaxPooling3D) (None, 7, 60, 60, 16)     0         \n",
            "_________________________________________________________________\n",
            "conv3d_1 (Conv3D)            (None, 7, 60, 60, 32)     13856     \n",
            "_________________________________________________________________\n",
            "batch_normalization_1 (Batch (None, 7, 60, 60, 32)     128       \n",
            "_________________________________________________________________\n",
            "max_pooling3d_1 (MaxPooling3 (None, 3, 30, 30, 32)     0         \n",
            "_________________________________________________________________\n",
            "conv3d_2 (Conv3D)            (None, 3, 30, 30, 64)     55360     \n",
            "_________________________________________________________________\n",
            "batch_normalization_2 (Batch (None, 3, 30, 30, 64)     256       \n",
            "_________________________________________________________________\n",
            "max_pooling3d_2 (MaxPooling3 (None, 1, 15, 15, 64)     0         \n",
            "_________________________________________________________________\n",
            "flatten (Flatten)            (None, 14400)             0         \n",
            "_________________________________________________________________\n",
            "dense (Dense)                (None, 128)               1843328   \n",
            "_________________________________________________________________\n",
            "batch_normalization_3 (Batch (None, 128)               512       \n",
            "_________________________________________________________________\n",
            "dropout (Dropout)            (None, 128)               0         \n",
            "_________________________________________________________________\n",
            "dense_1 (Dense)              (None, 5)                 645       \n",
            "=================================================================\n",
            "Total params: 1,920,165\n",
            "Trainable params: 1,919,685\n",
            "Non-trainable params: 480\n",
            "_________________________________________________________________\n",
            "None\n"
          ],
          "name": "stdout"
        }
      ]
    },
    {
      "cell_type": "markdown",
      "metadata": {
        "id": "8qNpNHTgDqzV"
      },
      "source": [
        "Let us create the `train_generator` and the `val_generator` which will be used in `.fit_generator`."
      ]
    },
    {
      "cell_type": "code",
      "metadata": {
        "id": "gTBXkhzUDqzV"
      },
      "source": [
        "train_generator = generator(train_path, train_doc, batch_size)\n",
        "val_generator = generator(val_path, val_doc, batch_size)"
      ],
      "execution_count": null,
      "outputs": []
    },
    {
      "cell_type": "code",
      "metadata": {
        "id": "BUhyYrYmDqzW"
      },
      "source": [
        "model_name = 'model_init' + '_' + str(curr_dt_time).replace(' ','').replace(':','_') + '/'\n",
        "    \n",
        "if not os.path.exists(model_name):\n",
        "    os.mkdir(model_name)\n",
        "        \n",
        "filepath = model_name + 'model-{epoch:05d}-{loss:.5f}-{categorical_accuracy:.5f}-{val_loss:.5f}-{val_categorical_accuracy:.5f}.h5'\n",
        "\n",
        "checkpoint = ModelCheckpoint(filepath, monitor='val_loss', verbose=1, save_best_only=False, save_weights_only=False, mode='auto', save_freq='epoch')\n",
        "\n",
        "LR = ReduceLROnPlateau(monitor='val_loss', factor=0.2, patience=2, verbose=1, mode='auto', min_delta=0.0001, cooldown=0, min_lr=0.000001)\n",
        "callbacks_list = [checkpoint,LR]"
      ],
      "execution_count": null,
      "outputs": []
    },
    {
      "cell_type": "markdown",
      "metadata": {
        "id": "r5l6JJLPDqzW"
      },
      "source": [
        "The `steps_per_epoch` and `validation_steps` are used by `fit_generator` to decide the number of next() calls it need to make."
      ]
    },
    {
      "cell_type": "code",
      "metadata": {
        "id": "GSvSnSbVDqzW"
      },
      "source": [
        "if (num_train_sequences%batch_size) == 0:\n",
        "    steps_per_epoch = int(num_train_sequences/batch_size)\n",
        "else:\n",
        "    steps_per_epoch = (num_train_sequences//batch_size) + 1\n",
        "\n",
        "if (num_val_sequences%batch_size) == 0:\n",
        "    validation_steps = int(num_val_sequences/batch_size)\n",
        "else:\n",
        "    validation_steps = (num_val_sequences//batch_size) + 1"
      ],
      "execution_count": null,
      "outputs": []
    },
    {
      "cell_type": "markdown",
      "metadata": {
        "id": "aFFyEQ6-DqzX"
      },
      "source": [
        "Let us now fit the model. This will start training the model and with the help of the checkpoints, you'll be able to save the model at the end of each epoch."
      ]
    },
    {
      "cell_type": "code",
      "metadata": {
        "colab": {
          "background_save": true,
          "base_uri": "https://localhost:8080/"
        },
        "id": "esIHaG22DqzX",
        "outputId": "64215aa0-3d34-4eb5-c4c5-0046ac585be3"
      },
      "source": [
        "model.fit(train_generator, steps_per_epoch=steps_per_epoch, epochs=num_epochs, verbose=1, \n",
        "                    callbacks=callbacks_list, validation_data=val_generator, \n",
        "                    validation_steps=validation_steps, class_weight=None, workers=1, initial_epoch=0)"
      ],
      "execution_count": null,
      "outputs": [
        {
          "output_type": "stream",
          "text": [
            "Source path =  /content/drive/MyDrive/Project_data/train ; batch size = 32\n",
            "Epoch 1/24\n",
            "21/21 [==============================] - ETA: 0s - loss: 1.4785 - categorical_accuracy: 0.4695  Source path =  /content/drive/MyDrive/Project_data/val ; batch size = 32\n",
            "21/21 [==============================] - 2811s 138s/step - loss: 1.4697 - categorical_accuracy: 0.4710 - val_loss: 2.8752 - val_categorical_accuracy: 0.1719\n",
            "\n",
            "Epoch 00001: saving model to model_init_2021-04-1909_01_24.296923/model-00001-1.28531-0.50446-2.87517-0.17188.h5\n",
            "Epoch 2/24\n",
            "21/21 [==============================] - 1208s 58s/step - loss: 1.0390 - categorical_accuracy: 0.6296 - val_loss: 3.0096 - val_categorical_accuracy: 0.1719\n",
            "\n",
            "Epoch 00002: saving model to model_init_2021-04-1909_01_24.296923/model-00002-0.97158-0.63988-3.00961-0.17188.h5\n",
            "Epoch 3/24\n",
            "21/21 [==============================] - 1192s 57s/step - loss: 0.7090 - categorical_accuracy: 0.7153 - val_loss: 4.4309 - val_categorical_accuracy: 0.0938\n",
            "\n",
            "Epoch 00003: saving model to model_init_2021-04-1909_01_24.296923/model-00003-0.69055-0.70387-4.43095-0.09375.h5\n",
            "\n",
            "Epoch 00003: ReduceLROnPlateau reducing learning rate to 0.00020000000949949026.\n",
            "Epoch 4/24\n",
            "21/21 [==============================] - 1169s 56s/step - loss: 0.5555 - categorical_accuracy: 0.7839 - val_loss: 2.7120 - val_categorical_accuracy: 0.1562\n",
            "\n",
            "Epoch 00004: saving model to model_init_2021-04-1909_01_24.296923/model-00004-0.52609-0.79613-2.71198-0.15625.h5\n",
            "Epoch 5/24\n",
            "21/21 [==============================] - 1161s 55s/step - loss: 0.3941 - categorical_accuracy: 0.8500 - val_loss: 2.1479 - val_categorical_accuracy: 0.1797\n",
            "\n",
            "Epoch 00005: saving model to model_init_2021-04-1909_01_24.296923/model-00005-0.41064-0.85119-2.14790-0.17969.h5\n",
            "Epoch 6/24\n",
            "21/21 [==============================] - 1166s 56s/step - loss: 0.3109 - categorical_accuracy: 0.9035 - val_loss: 2.0508 - val_categorical_accuracy: 0.2344\n",
            "\n",
            "Epoch 00006: saving model to model_init_2021-04-1909_01_24.296923/model-00006-0.31561-0.88095-2.05083-0.23438.h5\n",
            "Epoch 7/24\n",
            "21/21 [==============================] - 1153s 55s/step - loss: 0.2721 - categorical_accuracy: 0.9263 - val_loss: 1.9667 - val_categorical_accuracy: 0.3516\n",
            "\n",
            "Epoch 00007: saving model to model_init_2021-04-1909_01_24.296923/model-00007-0.28449-0.89881-1.96665-0.35156.h5\n",
            "Epoch 8/24\n",
            "21/21 [==============================] - 1141s 54s/step - loss: 0.2605 - categorical_accuracy: 0.9085 - val_loss: 2.1483 - val_categorical_accuracy: 0.3047\n",
            "\n",
            "Epoch 00008: saving model to model_init_2021-04-1909_01_24.296923/model-00008-0.25507-0.90327-2.14826-0.30469.h5\n",
            "Epoch 9/24\n",
            "21/21 [==============================] - 1152s 55s/step - loss: 0.1730 - categorical_accuracy: 0.9692 - val_loss: 1.8119 - val_categorical_accuracy: 0.3438\n",
            "\n",
            "Epoch 00009: saving model to model_init_2021-04-1909_01_24.296923/model-00009-0.19825-0.94196-1.81193-0.34375.h5\n",
            "Epoch 10/24\n",
            "21/21 [==============================] - 1147s 55s/step - loss: 0.1528 - categorical_accuracy: 0.9499 - val_loss: 1.7091 - val_categorical_accuracy: 0.5469\n",
            "\n",
            "Epoch 00010: saving model to model_init_2021-04-1909_01_24.296923/model-00010-0.16334-0.93601-1.70913-0.54688.h5\n",
            "Epoch 11/24\n",
            "21/21 [==============================] - 1141s 55s/step - loss: 0.1258 - categorical_accuracy: 0.9788 - val_loss: 1.9312 - val_categorical_accuracy: 0.3203\n",
            "\n",
            "Epoch 00011: saving model to model_init_2021-04-1909_01_24.296923/model-00011-0.14104-0.95833-1.93120-0.32031.h5\n",
            "Epoch 12/24\n",
            "21/21 [==============================] - 1140s 55s/step - loss: 0.1031 - categorical_accuracy: 0.9878 - val_loss: 1.6697 - val_categorical_accuracy: 0.5234\n",
            "\n",
            "Epoch 00012: saving model to model_init_2021-04-1909_01_24.296923/model-00012-0.10185-0.97917-1.66971-0.52344.h5\n",
            "Epoch 13/24\n",
            "21/21 [==============================] - 1143s 55s/step - loss: 0.0913 - categorical_accuracy: 0.9833 - val_loss: 1.6478 - val_categorical_accuracy: 0.5312\n",
            "\n",
            "Epoch 00013: saving model to model_init_2021-04-1909_01_24.296923/model-00013-0.10020-0.97024-1.64780-0.53125.h5\n",
            "Epoch 14/24\n",
            "21/21 [==============================] - 1137s 54s/step - loss: 0.0769 - categorical_accuracy: 0.9941 - val_loss: 1.7694 - val_categorical_accuracy: 0.2656\n",
            "\n",
            "Epoch 00014: saving model to model_init_2021-04-1909_01_24.296923/model-00014-0.09847-0.97917-1.76936-0.26562.h5\n",
            "Epoch 15/24\n",
            "21/21 [==============================] - 1143s 55s/step - loss: 0.0717 - categorical_accuracy: 0.9931 - val_loss: 1.6727 - val_categorical_accuracy: 0.3047\n",
            "\n",
            "Epoch 00015: saving model to model_init_2021-04-1909_01_24.296923/model-00015-0.07742-0.97917-1.67268-0.30469.h5\n",
            "\n",
            "Epoch 00015: ReduceLROnPlateau reducing learning rate to 4.0000001899898055e-05.\n",
            "Epoch 16/24\n",
            "21/21 [==============================] - 1130s 54s/step - loss: 0.0564 - categorical_accuracy: 0.9914 - val_loss: 1.4487 - val_categorical_accuracy: 0.3203\n",
            "\n",
            "Epoch 00016: saving model to model_init_2021-04-1909_01_24.296923/model-00016-0.06833-0.97917-1.44872-0.32031.h5\n",
            "Epoch 17/24\n",
            "21/21 [==============================] - 1150s 55s/step - loss: 0.0619 - categorical_accuracy: 0.9947 - val_loss: 1.3674 - val_categorical_accuracy: 0.3594\n",
            "\n",
            "Epoch 00017: saving model to model_init_2021-04-1909_01_24.296923/model-00017-0.08364-0.97470-1.36744-0.35938.h5\n",
            "Epoch 18/24\n",
            "21/21 [==============================] - 1145s 55s/step - loss: 0.0490 - categorical_accuracy: 0.9985 - val_loss: 1.3615 - val_categorical_accuracy: 0.3672\n",
            "\n",
            "Epoch 00018: saving model to model_init_2021-04-1909_01_24.296923/model-00018-0.05683-0.98661-1.36151-0.36719.h5\n",
            "Epoch 19/24\n",
            "21/21 [==============================] - 1158s 55s/step - loss: 0.0372 - categorical_accuracy: 0.9988 - val_loss: 1.0460 - val_categorical_accuracy: 0.4453\n",
            "\n",
            "Epoch 00019: saving model to model_init_2021-04-1909_01_24.296923/model-00019-0.04642-0.98661-1.04600-0.44531.h5\n",
            "Epoch 20/24\n",
            "21/21 [==============================] - 1141s 55s/step - loss: 0.0397 - categorical_accuracy: 0.9979 - val_loss: 1.1903 - val_categorical_accuracy: 0.4219\n",
            "\n",
            "Epoch 00020: saving model to model_init_2021-04-1909_01_24.296923/model-00020-0.04911-0.98065-1.19028-0.42188.h5\n",
            "Epoch 21/24\n",
            "21/21 [==============================] - 1147s 55s/step - loss: 0.0536 - categorical_accuracy: 0.9920 - val_loss: 1.0392 - val_categorical_accuracy: 0.4531\n",
            "\n",
            "Epoch 00021: saving model to model_init_2021-04-1909_01_24.296923/model-00021-0.04965-0.98363-1.03918-0.45312.h5\n",
            "Epoch 22/24\n",
            "21/21 [==============================] - 1152s 55s/step - loss: 0.0475 - categorical_accuracy: 0.9966 - val_loss: 0.9317 - val_categorical_accuracy: 0.4844\n",
            "\n",
            "Epoch 00022: saving model to model_init_2021-04-1909_01_24.296923/model-00022-0.05179-0.98363-0.93175-0.48438.h5\n",
            "Epoch 23/24\n",
            "21/21 [==============================] - 1151s 55s/step - loss: 0.0497 - categorical_accuracy: 0.9886 - val_loss: 0.9574 - val_categorical_accuracy: 0.5000\n",
            "\n",
            "Epoch 00023: saving model to model_init_2021-04-1909_01_24.296923/model-00023-0.04415-0.98661-0.95745-0.50000.h5\n",
            "Epoch 24/24\n",
            "21/21 [==============================] - 1140s 54s/step - loss: 0.0391 - categorical_accuracy: 0.9979 - val_loss: 0.9097 - val_categorical_accuracy: 0.4766\n",
            "\n",
            "Epoch 00024: saving model to model_init_2021-04-1909_01_24.296923/model-00024-0.04808-0.98363-0.90969-0.47656.h5\n"
          ],
          "name": "stdout"
        },
        {
          "output_type": "execute_result",
          "data": {
            "text/plain": [
              "<tensorflow.python.keras.callbacks.History at 0x7f7a9f6a54d0>"
            ]
          },
          "metadata": {
            "tags": []
          },
          "execution_count": 0
        }
      ]
    },
    {
      "cell_type": "code",
      "metadata": {
        "colab": {
          "background_save": true,
          "base_uri": "https://localhost:8080/",
          "height": 573
        },
        "id": "xOfVg5GLDqzX",
        "outputId": "a0a4afa4-455f-4d92-cbed-bd46aa63e37f"
      },
      "source": [
        "import matplotlib.pyplot as plt\n",
        "history = model.history.__dict__['history']\n",
        "plt.plot(history['categorical_accuracy'])\n",
        "plt.plot(history['val_categorical_accuracy'])\n",
        "plt.title('model accuracy')\n",
        "plt.ylabel('accuracy')\n",
        "plt.xlabel('epoch')\n",
        "plt.legend(['train', 'test'], loc='upper left')\n",
        "plt.show()\n",
        "# summarize history for loss\n",
        "plt.plot(history['loss'])\n",
        "plt.plot(history['val_loss'])\n",
        "plt.title('model loss')\n",
        "plt.ylabel('loss')\n",
        "plt.xlabel('epoch')\n",
        "plt.legend(['train', 'test'], loc='upper left')\n",
        "plt.show()"
      ],
      "execution_count": null,
      "outputs": [
        {
          "output_type": "display_data",
          "data": {
            "image/png": "[encoded data removed]",
            "text/plain": [
              "<Figure size 432x288 with 1 Axes>"
            ]
          },
          "metadata": {
            "tags": []
          }
        },
        {
          "output_type": "display_data",
          "data": {
            "image/png": "[encoded data removed]",
            "text/plain": [
              "<Figure size 432x288 with 1 Axes>"
            ]
          },
          "metadata": {
            "tags": []
          }
        }
      ]
    },
    {
      "cell_type": "code",
      "metadata": {
        "id": "_MVHI6l_qmGa"
      },
      "source": [
        ""
      ],
      "execution_count": null,
      "outputs": []
    }
  ]
}